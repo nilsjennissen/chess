{
 "cells": [
  {
   "cell_type": "markdown",
   "source": [
    "# Game visualization"
   ],
   "metadata": {
    "collapsed": false,
    "pycharm": {
     "name": "#%% md\n"
    }
   }
  },
  {
   "cell_type": "code",
   "execution_count": 1,
   "metadata": {
    "collapsed": true,
    "pycharm": {
     "name": "#%%\n"
    }
   },
   "outputs": [],
   "source": [
    "# Import libraries\n",
    "import chess\n",
    "import random\n",
    "import chess.polyglot\n",
    "import chess.svg\n",
    "from IPython.display import SVG\n",
    "import pandas as pd"
   ]
  },
  {
   "cell_type": "markdown",
   "source": [
    "### Polyglot Opening Book"
   ],
   "metadata": {
    "collapsed": false,
    "pycharm": {
     "name": "#%% md\n"
    }
   }
  },
  {
   "cell_type": "code",
   "execution_count": 2,
   "outputs": [
    {
     "name": "stdout",
     "output_type": "stream",
     "text": [
      "e2e4 1 486544384\n",
      "d2d4 1 5120\n",
      "c2c4 1 3825144832\n"
     ]
    }
   ],
   "source": [
    "# polyglot opening book\n",
    "import chess.polyglot\n",
    "board = chess.Board()\n",
    "with chess.polyglot.open_reader(\"data/polyglot/performance.bin\") as reader:\n",
    "    for entry in reader.find_all(board):\n",
    "        print(entry.move, entry.weight, entry.learn)"
   ],
   "metadata": {
    "collapsed": false,
    "pycharm": {
     "name": "#%%\n"
    }
   }
  },
  {
   "cell_type": "markdown",
   "source": [
    "### Stockfish  engine"
   ],
   "metadata": {
    "collapsed": false,
    "pycharm": {
     "name": "#%% md\n"
    }
   }
  },
  {
   "cell_type": "code",
   "execution_count": 3,
   "outputs": [
    {
     "data": {
      "text/plain": "{'string': 'NNUE evaluation using nn-ad9b42354671.nnue enabled',\n 'depth': 14,\n 'seldepth': 20,\n 'multipv': 1,\n 'score': PovScore(Cp(+29), WHITE),\n 'nodes': 96343,\n 'nps': 953891,\n 'hashfull': 39,\n 'tbhits': 0,\n 'time': 0.101,\n 'pv': [Move.from_uci('g1f3'), Move.from_uci('g8f6')],\n 'upperbound': True}"
     },
     "execution_count": 3,
     "metadata": {},
     "output_type": "execute_result"
    }
   ],
   "source": [
    "# stockfish engine\n",
    "import chess.engine\n",
    "import stockfish\n",
    "\n",
    "board = chess.Board()\n",
    "board.push_san(\"e4\")\n",
    "board.push_san(\"e5\")\n",
    "fen = board.fen()\n",
    "stockfish = chess.engine.SimpleEngine.popen_uci(\"Stockfish-15.1_Mac_Apple_Silicon/stockfish-15.1_Mac_Apple_Silicon\")\n",
    "\n",
    "# Get best move\n",
    "info = stockfish.analyse(board, chess.engine.Limit(time=0.1))\n",
    "info"
   ],
   "metadata": {
    "collapsed": false,
    "pycharm": {
     "name": "#%%\n"
    }
   }
  },
  {
   "cell_type": "code",
   "execution_count": 4,
   "outputs": [
    {
     "data": {
      "text/plain": "<PlayResult at 0x10da8ac20 (move=g1f3, ponder=b8c6, info={}, draw_offered=False, resigned=False)>"
     },
     "execution_count": 4,
     "metadata": {},
     "output_type": "execute_result"
    }
   ],
   "source": [
    "best_move = stockfish.play(board, chess.engine.Limit(time=0.1))\n",
    "best_move"
   ],
   "metadata": {
    "collapsed": false,
    "pycharm": {
     "name": "#%%\n"
    }
   }
  },
  {
   "cell_type": "code",
   "execution_count": 36,
   "outputs": [
    {
     "name": "stdout",
     "output_type": "stream",
     "text": [
      "\n",
      "INFO\n",
      "    leading: WHITE\n",
      "    score_num: 36\n",
      "    score: +36\n",
      "    pv: [Move.from_uci('d2d4'), Move.from_uci('g8f6'), Move.from_uci('c2c4'), Move.from_uci('e7e6'), Move.from_uci('g1f3'), Move.from_uci('d7d5'), Move.from_uci('g2g3'), Move.from_uci('d5c4'), Move.from_uci('f1g2'), Move.from_uci('f8b4'), Move.from_uci('c1d2'), Move.from_uci('a7a5'), Move.from_uci('e1g1'), Move.from_uci('e8g8'), Move.from_uci('d1c2'), Move.from_uci('b4d2'), Move.from_uci('b1d2'), Move.from_uci('b7b5'), Move.from_uci('a2a4'), Move.from_uci('c7c6'), Move.from_uci('b2b3'), Move.from_uci('c4b3'), Move.from_uci('d2b3'), Move.from_uci('b5b4')]\n",
      "    depth: 23\n",
      "    nodes: 480099\n",
      "    time: 0.501\n",
      "\n",
      "MOVES\n",
      "    best_move: d2d4\n",
      "    ponder: g8f6\n",
      "    info: {'string': 'NNUE evaluation using nn-ad9b42354671.nnue enabled', 'depth': 14, 'seldepth': 20, 'multipv': 1, 'score': PovScore(Cp(+29), WHITE), 'nodes': 96343, 'nps': 953891, 'hashfull': 39, 'tbhits': 0, 'time': 0.101, 'pv': [Move.from_uci('g1f3'), Move.from_uci('g8f6')], 'upperbound': True}\n",
      "    \n"
     ]
    }
   ],
   "source": [
    "# Function to analyse board\n",
    "\n",
    "def get_analysis(board):\n",
    "    stock = stockfish.analyse(board, chess.engine.Limit(time=0.5))\n",
    "    stock_info = {\n",
    "        \"leading\": str(stock[\"score\"]).split(\" \")[1].split(\")\")[0],\n",
    "        \"score_num\": stock[\"score\"].relative.score(mate_score=1000),\n",
    "        \"score\": str(stock[\"score\"]).split(\"(\")[2].split(\")\")[0],\n",
    "        \"pv\": stock[\"pv\"],\n",
    "        \"depth\": stock[\"depth\"],\n",
    "        \"nodes\": stock[\"nodes\"],\n",
    "        \"time\": stock[\"time\"],\n",
    "    }\n",
    "    best_move = {\n",
    "        \"best_move\": stock[\"pv\"][0],\n",
    "        \"ponder\": stock[\"pv\"][1],\n",
    "    }\n",
    "    # Extract Cp and Mate scores and cut the number plus sign out\n",
    "    PovScore = str(info[\"score\"]).split(\"(\")[2].split(\")\")[0]\n",
    "\n",
    "    return print(f'''\n",
    "INFO\n",
    "    leading: {stock_info[\"leading\"]}\n",
    "    score_num: {stock_info[\"score_num\"]}\n",
    "    score: {stock_info[\"score\"]}\n",
    "    pv: {stock_info[\"pv\"]}\n",
    "    depth: {stock_info[\"depth\"]}\n",
    "    nodes: {stock_info[\"nodes\"]}\n",
    "    time: {stock_info[\"time\"]}\n",
    "\n",
    "MOVES\n",
    "    best_move: {best_move[\"best_move\"]}\n",
    "    ponder: {best_move[\"ponder\"]}\n",
    "    ''')\n",
    "\n",
    "\n",
    "board = chess.Board()\n",
    "get_analysis(board)"
   ],
   "metadata": {
    "collapsed": false,
    "pycharm": {
     "name": "#%%\n"
    }
   }
  },
  {
   "cell_type": "code",
   "execution_count": 57,
   "outputs": [],
   "source": [
    "#\n",
    "def get_sorted_moves(board):\n",
    "    info = stockfish.analyse(board, chess.engine.Limit(time=1.0))\n",
    "    # List all moves and store them in a list\n",
    "    list = []\n",
    "    for move in info[\"pv\"]:\n",
    "        # Remove all Move.from_uci() from the list\n",
    "        move = str(move).split(\"(\")[0]\n",
    "\n",
    "        list.append(move)\n",
    "    return print(list)"
   ],
   "metadata": {
    "collapsed": false,
    "pycharm": {
     "name": "#%%\n"
    }
   }
  },
  {
   "cell_type": "code",
   "execution_count": 59,
   "outputs": [
    {
     "name": "stdout",
     "output_type": "stream",
     "text": [
      "['e2e4', 'c7c5', 'g1f3', 'b8c6', 'd2d4', 'c5d4', 'f3d4', 'g7g6', 'c2c4', 'g8f6', 'b1c3', 'd7d6', 'f1e2', 'c6d4', 'd1d4', 'd8a5', 'e1g1', 'f8g7', 'c1e3']\n"
     ]
    }
   ],
   "source": [
    "get_sorted_moves(board)"
   ],
   "metadata": {
    "collapsed": false,
    "pycharm": {
     "name": "#%%\n"
    }
   }
  },
  {
   "cell_type": "code",
   "execution_count": 48,
   "outputs": [],
   "source": [],
   "metadata": {
    "collapsed": false,
    "pycharm": {
     "name": "#%%\n"
    }
   }
  },
  {
   "cell_type": "code",
   "execution_count": null,
   "outputs": [],
   "source": [],
   "metadata": {
    "collapsed": false,
    "pycharm": {
     "name": "#%%\n"
    }
   }
  }
 ],
 "metadata": {
  "kernelspec": {
   "display_name": "Python 3",
   "language": "python",
   "name": "python3"
  },
  "language_info": {
   "codemirror_mode": {
    "name": "ipython",
    "version": 2
   },
   "file_extension": ".py",
   "mimetype": "text/x-python",
   "name": "python",
   "nbconvert_exporter": "python",
   "pygments_lexer": "ipython2",
   "version": "2.7.6"
  }
 },
 "nbformat": 4,
 "nbformat_minor": 0
}